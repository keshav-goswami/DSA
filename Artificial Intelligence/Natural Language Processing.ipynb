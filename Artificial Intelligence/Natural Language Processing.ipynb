{
 "cells": [
  {
   "cell_type": "code",
   "execution_count": 1,
   "id": "64430b15",
   "metadata": {},
   "outputs": [],
   "source": [
    "#Natural Language Processing\n",
    "paragraph = \"\"\"I have three visions for India. In 3000 years of our \n",
    "history, people from all over the world have come and invaded us, \n",
    "captured our lands, conquered our minds. From Alexander onwards, \n",
    "the Greeks, the Turks, the Moguls, the Portuguese, the British, the \n",
    "French, the Dutch, all of them came and looted us, took over what was \n",
    "ours. Yet we have not done this to any other nation. We have not \n",
    "conquered anyone. We have not grabbed their land, their culture, their \n",
    "history and tried to enforce our way of life on them. Why? Because we \n",
    "respect the freedom of others. That is why my first vision is that of \n",
    "freedom. I believe that India got its first vision of this in 1857, when we \n",
    "started the War of Independence. It is this freedom that we must \n",
    "protect and nurture and build on. If we are not free, no one will respect \n",
    "us. My second vision for India’s development. For fifty years we have \n",
    "been a developing nation. It is time we see ourselves as a developed \n",
    "nation. We are among the top 5 nations of the world in terms of GDP. \n",
    "We have a 10 percent growth rate in most areas. Our poverty levels \n",
    "are falling. Our achievements are being globally recognised today. Yet \n",
    "we lack the self-confidence to see ourselves as a developed nation, \n",
    "self-reliant and selfassured. Isn’t this incorrect? I have a third vision. \n",
    "India must stand up to the world. Because I believe that unless India \n",
    "stands up to the world, no one will respect us. Only strength respects \n",
    "strength. We must be strong not only as a military power but also as an \n",
    "economic power. Both must go hand-in-hand. My good fortune was to \n",
    "have worked with three great minds. Dr. Vikram Sarabhai of the Dept. \n",
    "of space, Professor Satish Dhawan, who succeeded him and Dr. \n",
    "Brahm Prakash, father of nuclear material. I was lucky to have worked \n",
    "with all three of them closely and consider this the great opportunity of \n",
    "my life. I see four milestones in my career\"\"\"\n",
    "\n"
   ]
  },
  {
   "cell_type": "code",
   "execution_count": 2,
   "id": "bc154767",
   "metadata": {},
   "outputs": [],
   "source": [
    "# Importing Libraries \n",
    "import nltk\n",
    "from nltk.stem import PorterStemmer \n",
    "from nltk.corpus import stopwords \n",
    "from nltk.stem import SnowballStemmer \n",
    "import string\n",
    "# Tokenizing into Sentences\n",
    "sentences = nltk.sent_tokenize(paragraph)"
   ]
  },
  {
   "cell_type": "code",
   "execution_count": 3,
   "id": "0362d4a7",
   "metadata": {},
   "outputs": [],
   "source": [
    "# nltk.download('stopwords') \n",
    "# nltk.download('punkt')"
   ]
  },
  {
   "cell_type": "code",
   "execution_count": 4,
   "id": "2c66953a",
   "metadata": {},
   "outputs": [
    {
     "name": "stdout",
     "output_type": "stream",
     "text": [
      "['i three vision india .', 'in 3000 year histori , peopl world come invad us , captur land , conquer mind .', 'from alexand onward , greek , turk , mogul , portugues , british , french , dutch , came loot us , took .', 'yet done nation .', 'we conquer anyon .', 'we grab land , cultur , histori tri enforc way life .', 'whi ?', 'becaus respect freedom other .', 'that first vision freedom .', 'i believ india got first vision 1857 , start war independ .', 'it freedom must protect nurtur build .', 'if free , one respect us .', 'my second vision india ’ develop .', 'for fifti year develop nation .', 'it time see develop nation .', 'we among top 5 nation world term gdp .', 'we 10 percent growth rate area .', 'our poverti level fall .', 'our achiev global recognis today .', 'yet lack self-confid see develop nation , self-reli selfassur .', 'isn ’ incorrect ?', 'i third vision .', 'india must stand world .', 'becaus i believ unless india stand world , one respect us .', 'onli strength respect strength .', 'we must strong militari power also econom power .', 'both must go hand-in-hand .', 'my good fortun work three great mind .', 'dr. vikram sarabhai dept .', 'space , professor satish dhawan , succeed dr. brahm prakash , father nuclear materi .', 'i lucki work three close consid great opportun life .', 'i see four mileston career']\n"
     ]
    }
   ],
   "source": [
    "# Tokenizing Using PorterStemmer\n",
    "stemmer = PorterStemmer()\n",
    "for i in range(len(sentences)):\n",
    "    words = nltk.word_tokenize(sentences[i])\n",
    "    words = [stemmer.stem(word) for word in words if word not in set(stopwords.words('english'))]\n",
    "    sentences[i] = ' '.join(words)\n",
    "print(sentences)"
   ]
  },
  {
   "cell_type": "code",
   "execution_count": 5,
   "id": "4b8d45fd",
   "metadata": {},
   "outputs": [],
   "source": [
    "# Tokenizing Using SnowballStemmer\n",
    "stemm = SnowballStemmer('english')\n",
    "for i in range(len(sentences)):\n",
    "    words = nltk.word_tokenize(sentences[i])\n",
    "    words = [stemm.stem(word) for word in words if word not in set(stopwords.words('english'))]\n",
    "    sentences[i] = ' '.join(words)\n"
   ]
  },
  {
   "cell_type": "code",
   "execution_count": 6,
   "id": "ab1e05c0",
   "metadata": {},
   "outputs": [
    {
     "name": "stdout",
     "output_type": "stream",
     "text": [
      "['three', 'vision', 'india', '3000', 'year', 'histori', 'peopl', 'world', 'come', 'invad', 'us', 'captur', 'land', 'conquer', 'mind', 'alexand', 'onward', 'greek', 'turk', 'mogul', 'portugu', 'british', 'french', 'dutch', 'came', 'loot', 'us', 'took', 'yet', 'done', 'nation', 'conquer', 'anyon', 'grab', 'land', 'cultur', 'histori', 'tri', 'enforc', 'way', 'life', 'whi', 'becaus', 'respect', 'freedom', 'first', 'vision', 'freedom', 'believ', 'india', 'got', 'first', 'vision', '1857', 'start', 'war', 'independ', 'freedom', 'must', 'protect', 'nurtur', 'build', 'free', 'one', 'respect', 'us', 'second', 'vision', 'india', '’', 'develop', 'fifti', 'year', 'develop', 'nation', 'time', 'see', 'develop', 'nation', 'among', 'top', '5', 'nation', 'world', 'term', 'gdp', '10', 'percent', 'growth', 'rate', 'area', 'poverti', 'level', 'fall', 'achiev', 'global', 'recogni', 'today', 'yet', 'lack', 'self-confid', 'see', 'develop', 'nation', 'self-r', 'selfassur', '’', 'incorrect', 'third', 'vision', 'india', 'must', 'stand', 'world', 'becaus', 'believ', 'unless', 'india', 'stand', 'world', 'one', 'respect', 'us', 'on', 'strength', 'respect', 'strength', 'must', 'strong', 'militari', 'power', 'also', 'econom', 'power', 'must', 'go', 'hand-in-hand', 'good', 'fortun', 'work', 'three', 'great', 'mind', 'dr.', 'vikram', 'sarabhai', 'dept', 'space', 'professor', 'satish', 'dhawan', 'succeed', 'dr.', 'brahm', 'prakash', 'father', 'nuclear', 'materi', 'lucki', 'work', 'three', 'close', 'consid', 'great', 'opportun', 'life', 'see', 'four', 'mileston', 'career']\n"
     ]
    }
   ],
   "source": [
    "# Removing Punctuation\n",
    "filtered = []\n",
    "s = set(string.punctuation) # !\"#$%&'()*+,-./:;<=>?@[\\]^_`{|}~\n",
    "for i in range(len(sentences)):\n",
    "    words = nltk.word_tokenize(sentences[i])\n",
    "    for j in words:\n",
    "        if j not in s :\n",
    "            filtered.append(j); \n",
    "print(filtered)"
   ]
  },
  {
   "cell_type": "code",
   "execution_count": null,
   "id": "df4b9988",
   "metadata": {},
   "outputs": [],
   "source": []
  }
 ],
 "metadata": {
  "kernelspec": {
   "display_name": "Python 3 (ipykernel)",
   "language": "python",
   "name": "python3"
  },
  "language_info": {
   "codemirror_mode": {
    "name": "ipython",
    "version": 3
   },
   "file_extension": ".py",
   "mimetype": "text/x-python",
   "name": "python",
   "nbconvert_exporter": "python",
   "pygments_lexer": "ipython3",
   "version": "3.8.13"
  }
 },
 "nbformat": 4,
 "nbformat_minor": 5
}
