{
 "cells": [
  {
   "cell_type": "code",
   "execution_count": 11,
   "id": "ac5b48dc",
   "metadata": {},
   "outputs": [],
   "source": [
    "#Breadth First Search\n",
    "from queue import Queue\n",
    "def bfs(src,dst,visited,gf):\n",
    "    q = Queue()\n",
    "    q.put(src)\n",
    "    visited.add(src)\n",
    "    while(not q.empty()):\n",
    "        curr = q.get()\n",
    "        print(str(curr)+\"->\",end=\"\")\n",
    "        if(curr == dst):\n",
    "            print(\"END\")\n",
    "            return\n",
    "        for i in gf[curr]:\n",
    "            if i not in visited:\n",
    "                q.put(i)\n",
    "                visited.add(i)"
   ]
  },
  {
   "cell_type": "code",
   "execution_count": 12,
   "id": "fa9df0ef",
   "metadata": {},
   "outputs": [
    {
     "name": "stdout",
     "output_type": "stream",
     "text": [
      "RESULT: \n",
      "S->A->G->"
     ]
    }
   ],
   "source": [
    "graph = {\n",
    "    'S':{'A':1,'G':10},\n",
    "    'A':{'B':2,'C':1,'S':1},\n",
    "    'B':{'D':5,'A':2},\n",
    "    'C':{'A':1,'D':3,'G':4},\n",
    "    'D':{'B':5,'C':3},\n",
    "    'G':{'S':10}\n",
    "}\n",
    "print(\"RESULT: \")\n",
    "bfs('S','G',set(),graph)"
   ]
  },
  {
   "cell_type": "code",
   "execution_count": null,
   "id": "899ee17d",
   "metadata": {},
   "outputs": [],
   "source": []
  }
 ],
 "metadata": {
  "kernelspec": {
   "display_name": "Python 3 (ipykernel)",
   "language": "python",
   "name": "python3"
  },
  "language_info": {
   "codemirror_mode": {
    "name": "ipython",
    "version": 3
   },
   "file_extension": ".py",
   "mimetype": "text/x-python",
   "name": "python",
   "nbconvert_exporter": "python",
   "pygments_lexer": "ipython3",
   "version": "3.8.13"
  }
 },
 "nbformat": 4,
 "nbformat_minor": 5
}
