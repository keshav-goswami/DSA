{
 "cells": [
  {
   "cell_type": "code",
   "execution_count": 21,
   "id": "692db12c",
   "metadata": {
    "scrolled": true
   },
   "outputs": [],
   "source": [
    "# Branch and Bound Algorithm (just use current path cost, A star is a bit better thn branch and bound as it also considers Heuristic)\n",
    "\n",
    "adjacency_list = {\n",
    "    'S':[('A',4),('B',5)],\n",
    "    'A':[('B',3),('D',8),('E',15),('S',4)],\n",
    "    'B':[('S',5),('A',3),('D',6),('C',4)],\n",
    "    'C':[('B',4),('D',4),('G',7)],\n",
    "    'D':[('E',2),('A',8),('B',6),('C',4),('G',2)],\n",
    "    'E':[('D',2),('A',15)],\n",
    "    'G':[('D',2),('C',7)]\n",
    "}\n",
    "\n",
    "\n",
    "def B_and_B(src,dst,opn,cld):\n",
    "    opn.add(src)\n",
    "    \n",
    "    d = {}\n",
    "    d[src] = 0\n",
    "    \n",
    "    parent = {}\n",
    "    parent[src] = src\n",
    "    \n",
    "    while(len(opn)):\n",
    "        \n",
    "        n = None\n",
    "        for i in opn:\n",
    "            if n == None or d[i] < d[n]:\n",
    "                n = i\n",
    "        \n",
    "        if n == dst:\n",
    "            path = []\n",
    "            \n",
    "            while parent[n]!=n:\n",
    "                path.append(n)\n",
    "                n = parent[n]\n",
    "            path.append(src)\n",
    "            path.reverse()\n",
    "            \n",
    "            print(\"Path Found: \"+str(path))\n",
    "            print('Cost: '+str(d[i]))\n",
    "            return\n",
    "        \n",
    "        for (m,w) in adjacency_list[n]:\n",
    "            \n",
    "            if m not in opn and m not in cld:\n",
    "                parent[m] = n\n",
    "                d[m] = d[n]+w\n",
    "                opn.add(m)\n",
    "                \n",
    "            else:\n",
    "                if d[m]>d[n]+w:\n",
    "                    d[m] = d[n]+w\n",
    "                    parent[m] = n\n",
    "                    \n",
    "                    if m in cld:\n",
    "                        cld,remove(m)\n",
    "                        opn.add(m)\n",
    "        opn.remove(n)\n",
    "        cld.add(n)\n",
    "    print(\"Path Doesn't Exists\")\n",
    "    return"
   ]
  },
  {
   "cell_type": "code",
   "execution_count": 22,
   "id": "28500fb2",
   "metadata": {},
   "outputs": [
    {
     "name": "stdout",
     "output_type": "stream",
     "text": [
      "Path Found: ['S', 'B', 'D', 'G']\n",
      "Cost: 13\n"
     ]
    }
   ],
   "source": [
    "B_and_B('S','G',set(),set())"
   ]
  },
  {
   "cell_type": "code",
   "execution_count": null,
   "id": "f999003d",
   "metadata": {},
   "outputs": [],
   "source": []
  }
 ],
 "metadata": {
  "kernelspec": {
   "display_name": "Python 3 (ipykernel)",
   "language": "python",
   "name": "python3"
  },
  "language_info": {
   "codemirror_mode": {
    "name": "ipython",
    "version": 3
   },
   "file_extension": ".py",
   "mimetype": "text/x-python",
   "name": "python",
   "nbconvert_exporter": "python",
   "pygments_lexer": "ipython3",
   "version": "3.8.13"
  }
 },
 "nbformat": 4,
 "nbformat_minor": 5
}
