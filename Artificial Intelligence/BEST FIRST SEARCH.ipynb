{
 "cells": [
  {
   "cell_type": "code",
   "execution_count": 6,
   "id": "ee7d1bec",
   "metadata": {},
   "outputs": [],
   "source": [
    "#BEST FIRST SEARCH\n",
    "from queue import PriorityQueue\n",
    "def Bestfs(src,dst,visited,gf,heuristic):\n",
    "    pq = PriorityQueue()\n",
    "    pq.put([heuristic[src],src])\n",
    "    visited.add(src)\n",
    "    while(not pq.empty()):\n",
    "        curr = pq.get()[1]\n",
    "        print(str(curr)+\"->\",end=\"\")\n",
    "        if(curr == dst):\n",
    "            print(\"END\")\n",
    "            return\n",
    "        for i in gf[curr]:\n",
    "            if i not in visited:\n",
    "                pq.put([heuristic[i],i])\n",
    "                visited.add(i)"
   ]
  },
  {
   "cell_type": "code",
   "execution_count": 7,
   "id": "160ca887",
   "metadata": {},
   "outputs": [
    {
     "name": "stdout",
     "output_type": "stream",
     "text": [
      "RESULT: \n",
      "S->A->C->B->G->END\n"
     ]
    }
   ],
   "source": [
    "graph = {\n",
    "    'S':{'A':1,'G':10},\n",
    "    'A':{'B':2,'C':1,'S':1},\n",
    "    'B':{'D':5,'A':2},\n",
    "    'C':{'A':1,'D':3,'G':4},\n",
    "    'D':{'B':5,'C':3},\n",
    "    'G':{'S':10}\n",
    "}\n",
    "\n",
    "heuristic = {\n",
    "    'S': 4,\n",
    "    'A': 3,\n",
    "    'B': 4,\n",
    "    'C': 2,\n",
    "    'D': 6,\n",
    "    'G': 4\n",
    "}\n",
    "\n",
    "print(\"RESULT: \")\n",
    "Bestfs('S','G',set(),graph,heuristic)"
   ]
  },
  {
   "cell_type": "code",
   "execution_count": null,
   "id": "6479c9b1",
   "metadata": {},
   "outputs": [],
   "source": []
  }
 ],
 "metadata": {
  "kernelspec": {
   "display_name": "Python 3 (ipykernel)",
   "language": "python",
   "name": "python3"
  },
  "language_info": {
   "codemirror_mode": {
    "name": "ipython",
    "version": 3
   },
   "file_extension": ".py",
   "mimetype": "text/x-python",
   "name": "python",
   "nbconvert_exporter": "python",
   "pygments_lexer": "ipython3",
   "version": "3.8.13"
  }
 },
 "nbformat": 4,
 "nbformat_minor": 5
}
