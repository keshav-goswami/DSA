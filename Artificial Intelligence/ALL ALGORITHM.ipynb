{
 "cells": [
  {
   "cell_type": "code",
   "execution_count": 3,
   "metadata": {},
   "outputs": [
    {
     "name": "stdout",
     "output_type": "stream",
     "text": [
      "BFS: S A G \n",
      "\n",
      "Best FS: S A C B G \n",
      "\n",
      "Beam Search: S A C B G "
     ]
    }
   ],
   "source": [
    "# Breadth First Search (level order -> uninformed)\n",
    "from queue import Queue\n",
    "def bfs(gf,visited,src,dst):\n",
    "    q = Queue()\n",
    "    q.put(src)\n",
    "    visited.add(src)\n",
    "    while(not q.empty()):\n",
    "        curr = q.get()\n",
    "        print(str(curr)+\" \",end=\"\")\n",
    "        if(curr == dst):\n",
    "            return\n",
    "        for i in gf[curr]:\n",
    "            if i not in visited:\n",
    "                q.put(i)\n",
    "                visited.add(i)\n",
    "\n",
    "#Best First Search (heuristic approach --> informed)\n",
    "from queue import PriorityQueue\n",
    "def bestfs(gf,src,dst,heuristic,visited):\n",
    "    pq = PriorityQueue()\n",
    "    pq.put([heuristic[src],src])\n",
    "    visited.add(src)\n",
    "    while(not pq.empty()):\n",
    "        curr = pq.get()[1]\n",
    "        print(str(curr)+\" \",end=\"\")\n",
    "        if(curr == dst):\n",
    "            return\n",
    "        for i in gf[curr]:\n",
    "            if i not in visited:\n",
    "                visited.add(i)\n",
    "                pq.put([heuristic[i],i])\n",
    "\n",
    "def beamsearch(gf,src,dst,heuristic,visited,beamwidth):\n",
    "    pq = PriorityQueue()\n",
    "    pq.put([heuristic[src],src])\n",
    "    visited.add(src)\n",
    "    while(not pq.empty()):\n",
    "        curr = pq.get()[1]\n",
    "        print(str(curr)+\" \",end=\"\")\n",
    "        if(curr == dst):\n",
    "            return\n",
    "        k = beamwidth\n",
    "        for i in gf[curr]:\n",
    "            if i not in visited:\n",
    "                k-=1\n",
    "                pq.put([heuristic[i],i])\n",
    "                visited.add(i)\n",
    "                if(k==0):\n",
    "                    break\n",
    "                \n",
    "graph = {\n",
    "    'S': {'A': 1, 'G': 10},\n",
    "    'A': {'C': 1, 'B': 2, 'S': 1},\n",
    "    'B': {'D': 5, 'A': 2},\n",
    "    'C': {'A': 1,'D': 3,'G': 4},\n",
    "    'D': {'B': 5,'C': 3},\n",
    "    'G': {'C': 4,'S': 10}\n",
    "}\n",
    "\n",
    "heuristic = {\n",
    "    'S': 4,\n",
    "    'A': 3,\n",
    "    'B': 4,\n",
    "    'C': 2,\n",
    "    'D': 6,\n",
    "    'G': 4\n",
    "}\n",
    "\n",
    "# 1\n",
    "print(\"BFS: \",end=\"\")\n",
    "bfs(graph,set(),'S','G')\n",
    "# 2\n",
    "print(\"\\n\\nBest FS: \",end=\"\")\n",
    "bestfs(graph,'S','G',heuristic,set())\n",
    "# 3\n",
    "print(\"\\n\\nBeam Search: \",end=\"\")\n",
    "beamsearch(graph,'S','G',heuristic,set(),2)"
   ]
  },
  {
   "cell_type": "code",
   "execution_count": 2,
   "metadata": {},
   "outputs": [
    {
     "name": "stdout",
     "output_type": "stream",
     "text": [
      "Depth first Search: S A C D B G \n",
      "\n",
      "Depth Limited Search: S A C D G B "
     ]
    }
   ],
   "source": [
    "# Depth First Search\n",
    "def dfs(gf,src,dst,visited):\n",
    "    visited.add(src)\n",
    "    print(str(src)+\" \",end=\"\")\n",
    "    if(src == dst):\n",
    "        return\n",
    "    for i in gf[src]:\n",
    "        if i not in visited:\n",
    "            dfs(gf,i,dst,visited)\n",
    "            \n",
    "\n",
    "# Depth Limited Search\n",
    "def dls(gf,src,dst,visited,level,limit):\n",
    "    if(level == limit):\n",
    "        return\n",
    "    visited.add(src)\n",
    "    print(str(src)+\" \",end=\"\")\n",
    "    if(src == dst):\n",
    "        return\n",
    "    for i in gf[src]:\n",
    "        if i not in visited:\n",
    "            dls(gf,i,dst,visited,level+1,limit)\n",
    "            \n",
    "# 1\n",
    "print(\"Depth first Search: \",end=\"\")\n",
    "dfs(graph,'S','G',set())\n",
    "\n",
    "# 2\n",
    "print(\"\\n\\nDepth Limited Search: \",end=\"\")\n",
    "dls(graph,'S','G',set(),0,4)"
   ]
  },
  {
   "cell_type": "code",
   "execution_count": null,
   "metadata": {},
   "outputs": [],
   "source": []
  }
 ],
 "metadata": {
  "interpreter": {
   "hash": "63fd5069d213b44bf678585dea6b12cceca9941eaf7f819626cde1f2670de90d"
  },
  "kernelspec": {
   "display_name": "Python 3 (ipykernel)",
   "language": "python",
   "name": "python3"
  },
  "language_info": {
   "codemirror_mode": {
    "name": "ipython",
    "version": 3
   },
   "file_extension": ".py",
   "mimetype": "text/x-python",
   "name": "python",
   "nbconvert_exporter": "python",
   "pygments_lexer": "ipython3",
   "version": "3.8.13"
  }
 },
 "nbformat": 4,
 "nbformat_minor": 2
}
