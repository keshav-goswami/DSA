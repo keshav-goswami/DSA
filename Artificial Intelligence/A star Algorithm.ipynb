{
 "cells": [
  {
   "cell_type": "code",
   "execution_count": 22,
   "id": "3e26b077",
   "metadata": {},
   "outputs": [],
   "source": [
    "# A* Algorithm\n",
    "\n",
    "adjacency_list = {\n",
    "    'S':[('A',4),('B',5)],\n",
    "    'A':[('B',3),('D',8),('E',15),('S',4)],\n",
    "    'B':[('S',5),('A',3),('D',6),('C',4)],\n",
    "    'C':[('B',4),('D',4),('G',7)],\n",
    "    'D':[('E',2),('A',8),('B',6),('C',4),('G',2)],\n",
    "    'E':[('D',2),('A',15)],\n",
    "    'G':[('D',2),('C',7)]\n",
    "}\n",
    "\n",
    "H = {\n",
    "    'S': 4,\n",
    "    'A': 3,\n",
    "    'B': 4,\n",
    "    'C': 2,\n",
    "    'D': 6,\n",
    "    'E': 5,\n",
    "    'G': 4\n",
    "}\n",
    "def A_star(src,dst,open_list,closed_list):\n",
    "    open_list.add(src)\n",
    "    \n",
    "#   Distance from source node of every node\n",
    "    dist = {}\n",
    "    dist[src] = 0\n",
    "    \n",
    "#   Parent and node dictionary to retrack path\n",
    "    parent = {}\n",
    "    parent[src] = src\n",
    "    \n",
    "    while(len(open_list) > 0):\n",
    "        n = None\n",
    "    #   Minimum value of f(n) = g(n)+h(n)\n",
    "        for v in open_list:\n",
    "            if n == None or (dist[v]+H[v] < dist[n]+H[n]):\n",
    "                n = v\n",
    "\n",
    "        if n == dst:\n",
    "            path = []\n",
    "            while parent[n] != n:\n",
    "                path.append(n)\n",
    "                n = parent[n]\n",
    "            path.append(src)\n",
    "            path.reverse()\n",
    "            print(\"Path found: \"+str(path))\n",
    "            return\n",
    "\n",
    "        for (m,weight) in adjacency_list[n]:\n",
    "            if m not in open_list and m not in closed_list:\n",
    "                open_list.add(m)\n",
    "                dist[m] = dist[n]+weight\n",
    "                parent[m] = n\n",
    "\n",
    "            else:\n",
    "    #             checking if new entry of node m is better than previous one\n",
    "    #             if it is thn updating its info again and removing it from close list\n",
    "    #             if it exists and adding it to open_list again to check it agian\n",
    "                if dist[m] > dist[n]+weight:\n",
    "                    dist[m] = dist[n]+weight\n",
    "                    parent[m] = n\n",
    "\n",
    "                    if m in closed_list:\n",
    "                        open_list.add(m)\n",
    "                        closed_list.remove(m)\n",
    "\n",
    "        open_list.remove(n)\n",
    "        closed_list.add(n)\n",
    "\n",
    "    print(\"Path Doesn't Exists\")\n",
    "    return"
   ]
  },
  {
   "cell_type": "code",
   "execution_count": 23,
   "id": "32f0be08",
   "metadata": {},
   "outputs": [
    {
     "name": "stdout",
     "output_type": "stream",
     "text": [
      "Path found: ['S', 'B', 'D', 'G']\n"
     ]
    }
   ],
   "source": [
    "A_star('S','G',set(),set())"
   ]
  },
  {
   "cell_type": "code",
   "execution_count": null,
   "id": "724db7e7",
   "metadata": {},
   "outputs": [],
   "source": []
  },
  {
   "cell_type": "code",
   "execution_count": null,
   "id": "7b78a22d",
   "metadata": {},
   "outputs": [],
   "source": []
  }
 ],
 "metadata": {
  "kernelspec": {
   "display_name": "Python 3 (ipykernel)",
   "language": "python",
   "name": "python3"
  },
  "language_info": {
   "codemirror_mode": {
    "name": "ipython",
    "version": 3
   },
   "file_extension": ".py",
   "mimetype": "text/x-python",
   "name": "python",
   "nbconvert_exporter": "python",
   "pygments_lexer": "ipython3",
   "version": "3.8.13"
  }
 },
 "nbformat": 4,
 "nbformat_minor": 5
}
