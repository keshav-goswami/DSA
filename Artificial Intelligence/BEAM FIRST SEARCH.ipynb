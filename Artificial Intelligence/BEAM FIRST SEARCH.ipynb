{
 "cells": [
  {
   "cell_type": "code",
   "execution_count": 2,
   "id": "6a01c1c4",
   "metadata": {},
   "outputs": [],
   "source": [
    "# BEAM FIRST SEARCH\n",
    "from queue import PriorityQueue\n",
    "def beamfs(src,dst,heuristic,gf,visited,bwidth):\n",
    "    pq = PriorityQueue()\n",
    "    pq.put([heuristic[src],src])\n",
    "    visited.add(src)\n",
    "    while(not pq.empty()):\n",
    "        curr = pq.get()[1]\n",
    "        print(str(curr)+\"->\",end=\"\")\n",
    "        k = bwidth\n",
    "        if(curr == dst):\n",
    "            print(\"END\")\n",
    "            return\n",
    "        for i in gf[curr]:\n",
    "            if i not in visited:\n",
    "                k-=1\n",
    "                pq.put([heuristic[i],i])\n",
    "                visited.add(i)\n",
    "                if(k == 0):\n",
    "                    break\n",
    "            "
   ]
  },
  {
   "cell_type": "code",
   "execution_count": 4,
   "id": "d8c553e6",
   "metadata": {},
   "outputs": [
    {
     "name": "stdout",
     "output_type": "stream",
     "text": [
      "RESULT: \n",
      "S->A->C->B->G->END\n"
     ]
    }
   ],
   "source": [
    "graph = {\n",
    "    'S': {'A': 1, 'G': 10},\n",
    "    'A': {'C': 1, 'B': 2, 'S': 1},\n",
    "    'B': {'D': 5, 'A': 2},\n",
    "    'C': {'A': 1,'D': 3,'G': 4},\n",
    "    'D': {'B': 5,'C': 3},\n",
    "    'G': {'C': 4,'S': 10}\n",
    "}\n",
    "\n",
    "heuristic = {\n",
    "    'S': 4,\n",
    "    'A': 3,\n",
    "    'B': 4,\n",
    "    'C': 2,\n",
    "    'D': 6,\n",
    "    'G': 4\n",
    "}\n",
    "\n",
    "print(\"RESULT: \")\n",
    "beamfs('S','G',heuristic,graph,set(),2)"
   ]
  },
  {
   "cell_type": "code",
   "execution_count": null,
   "id": "0699870a",
   "metadata": {},
   "outputs": [],
   "source": []
  }
 ],
 "metadata": {
  "kernelspec": {
   "display_name": "Python 3 (ipykernel)",
   "language": "python",
   "name": "python3"
  },
  "language_info": {
   "codemirror_mode": {
    "name": "ipython",
    "version": 3
   },
   "file_extension": ".py",
   "mimetype": "text/x-python",
   "name": "python",
   "nbconvert_exporter": "python",
   "pygments_lexer": "ipython3",
   "version": "3.8.13"
  }
 },
 "nbformat": 4,
 "nbformat_minor": 5
}
