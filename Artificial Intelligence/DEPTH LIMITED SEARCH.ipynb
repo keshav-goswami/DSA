{
 "cells": [
  {
   "cell_type": "code",
   "execution_count": 20,
   "id": "0f3004e3",
   "metadata": {},
   "outputs": [],
   "source": [
    "#DEPTH LIMITED SEARCH\n",
    "def depthls(src,dst,gf,visited,depth,level):\n",
    "    if(depth == level):\n",
    "        return\n",
    "    visited.add(src)\n",
    "    print(str(src)+\"->\",end=\"\")\n",
    "    if(src == dst):\n",
    "        print(\"END\")\n",
    "        return\n",
    "    for i in gf[src]:\n",
    "        if i not in visited:\n",
    "            depthls(i,dst,gf,visited,depth,level+1)"
   ]
  },
  {
   "cell_type": "code",
   "execution_count": 21,
   "id": "441d6827",
   "metadata": {},
   "outputs": [
    {
     "name": "stdout",
     "output_type": "stream",
     "text": [
      "RESULT: \n",
      "S->A->G->END\n"
     ]
    }
   ],
   "source": [
    "graph = {\n",
    "    'S': {'A': 1, 'G': 10},\n",
    "    'A': {'C': 1, 'B': 2, 'S': 1},\n",
    "    'B': {'D': 5, 'A': 2},\n",
    "    'C': {'A': 1,'D': 3,'G': 4},\n",
    "    'D': {'B': 5,'C': 3},\n",
    "    'G': {'C': 4,'S': 10}\n",
    "}\n",
    "print(\"RESULT: \")\n",
    "depthls('S','G',graph,set(),2,0)"
   ]
  },
  {
   "cell_type": "code",
   "execution_count": null,
   "id": "aabcebc8",
   "metadata": {},
   "outputs": [],
   "source": []
  }
 ],
 "metadata": {
  "kernelspec": {
   "display_name": "Python 3 (ipykernel)",
   "language": "python",
   "name": "python3"
  },
  "language_info": {
   "codemirror_mode": {
    "name": "ipython",
    "version": 3
   },
   "file_extension": ".py",
   "mimetype": "text/x-python",
   "name": "python",
   "nbconvert_exporter": "python",
   "pygments_lexer": "ipython3",
   "version": "3.8.13"
  }
 },
 "nbformat": 4,
 "nbformat_minor": 5
}
