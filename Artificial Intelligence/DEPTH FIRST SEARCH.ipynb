{
 "cells": [
  {
   "cell_type": "code",
   "execution_count": 5,
   "id": "ec67644b",
   "metadata": {},
   "outputs": [],
   "source": [
    "#DEPTH FIRST SEARCH\n",
    "def dfs(src,dst,gf,visited):\n",
    "    visited.add(src)\n",
    "    print(str(src)+\"->\",end=\"\")\n",
    "    if(src == dst):\n",
    "        print(\"END\")\n",
    "        return\n",
    "    for i in gf[src]:\n",
    "        if i not in visited:\n",
    "            dfs(i,dst,gf,visited)"
   ]
  },
  {
   "cell_type": "code",
   "execution_count": 6,
   "id": "816a0510",
   "metadata": {},
   "outputs": [
    {
     "name": "stdout",
     "output_type": "stream",
     "text": [
      "RESULT: \n",
      "S->A->C->D->B->G->END\n"
     ]
    }
   ],
   "source": [
    "graph = {\n",
    "    'S': {'A': 1, 'G': 10},\n",
    "    'A': {'C': 1, 'B': 2, 'S': 1},\n",
    "    'B': {'D': 5, 'A': 2},\n",
    "    'C': {'A': 1,'D': 3,'G': 4},\n",
    "    'D': {'B': 5,'C': 3},\n",
    "    'G': {'C': 4,'S': 10}\n",
    "}\n",
    "print(\"RESULT: \")\n",
    "dfs('S','G',graph,set())"
   ]
  },
  {
   "cell_type": "code",
   "execution_count": null,
   "id": "357762ba",
   "metadata": {},
   "outputs": [],
   "source": []
  }
 ],
 "metadata": {
  "kernelspec": {
   "display_name": "Python 3 (ipykernel)",
   "language": "python",
   "name": "python3"
  },
  "language_info": {
   "codemirror_mode": {
    "name": "ipython",
    "version": 3
   },
   "file_extension": ".py",
   "mimetype": "text/x-python",
   "name": "python",
   "nbconvert_exporter": "python",
   "pygments_lexer": "ipython3",
   "version": "3.8.13"
  }
 },
 "nbformat": 4,
 "nbformat_minor": 5
}
